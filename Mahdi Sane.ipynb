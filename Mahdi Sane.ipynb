{
  "nbformat": 4,
  "nbformat_minor": 0,
  "metadata": {
    "colab": {
      "name": "Copy of Fig-1.ipynb",
      "provenance": [],
      "collapsed_sections": [],
      "include_colab_link": true
    },
    "kernelspec": {
      "name": "python3",
      "display_name": "Python 3"
    },
    "language_info": {
      "name": "python"
    }
  },
  "cells": [
    {
      "cell_type": "markdown",
      "metadata": {
        "id": "view-in-github",
        "colab_type": "text"
      },
      "source": [
        "<a href=\"https://colab.research.google.com/github/MohammdmahdiSaneVatani/SRH-EaSTM/blob/main/Mahdi%20Sane.ipynb\" target=\"_parent\"><img src=\"https://colab.research.google.com/assets/colab-badge.svg\" alt=\"Open In Colab\"/></a>"
      ]
    },
    {
      "cell_type": "markdown",
      "metadata": {
        "id": "ZE9C8dRUziBK"
      },
      "source": [
        "# Entry-Level Test\n",
        "\n",
        "## 1. Playing with Turtles\n",
        "\n",
        "The turtle game has proven itself as a first exercise for programming lectures in many different languages. The turtle will move according to the instructions in the source code and draw a line. In this exercise, try to draw a square with edge length 150.\n",
        "\n",
        "**___/5 Pts**"
      ]
    },
    {
      "cell_type": "code",
      "metadata": {
        "colab": {
          "base_uri": "https://localhost:8080/",
          "height": 538
        },
        "id": "gY_c_5TJ3KLo",
        "outputId": "bf861748-a12d-4d55-86e4-995a0e710074"
      },
      "source": [
        "!pip3 install ColabTurtle\n",
        "\n",
        "import ColabTurtle.Turtle as turtle\n",
        "turtle.initializeTurtle(initial_speed=5) \n",
        "turtle.color('blue')\n",
        "turtle.forward(150)\n",
        "turtle.right(90)\n",
        "turtle.color('red')\n",
        "turtle.forward(150)\n",
        "turtle.right(90)\n",
        "turtle.color('yellow')\n",
        "turtle.forward(150)\n",
        "turtle.right(90)\n",
        "turtle.color('white')\n",
        "turtle.forward(150)"
      ],
      "execution_count": null,
      "outputs": [
        {
          "output_type": "stream",
          "text": [
            "Requirement already satisfied: ColabTurtle in /usr/local/lib/python3.7/dist-packages (2.1.0)\n"
          ],
          "name": "stdout"
        },
        {
          "output_type": "display_data",
          "data": {
            "text/html": [
              "\n",
              "      <svg width=\"800\" height=\"500\">\n",
              "        <rect width=\"100%\" height=\"100%\" fill=\"black\"/>\n",
              "        <line x1=\"400\" y1=\"250\" x2=\"400.0\" y2=\"100.0\" stroke-linecap=\"round\" style=\"stroke:blue;stroke-width:4\"/><line x1=\"400.0\" y1=\"100.0\" x2=\"550.0\" y2=\"100.0\" stroke-linecap=\"round\" style=\"stroke:red;stroke-width:4\"/><line x1=\"550.0\" y1=\"100.0\" x2=\"550.0\" y2=\"250.0\" stroke-linecap=\"round\" style=\"stroke:yellow;stroke-width:4\"/><line x1=\"550.0\" y1=\"250.0\" x2=\"400.0\" y2=\"250.0\" stroke-linecap=\"round\" style=\"stroke:white;stroke-width:4\"/>\n",
              "        <g visibility=visible transform=\"rotate(270,400.0,250.0) translate(382.0, 232.0)\">\n",
              "<path style=\" stroke:none;fill-rule:evenodd;fill:white;fill-opacity:1;\" d=\"M 18.214844 0.632812 C 16.109375 1.800781 15.011719 4.074219 15.074219 7.132812 L 15.085938 7.652344 L 14.785156 7.496094 C 13.476562 6.824219 11.957031 6.671875 10.40625 7.066406 C 8.46875 7.550781 6.515625 9.15625 4.394531 11.992188 C 3.0625 13.777344 2.679688 14.636719 3.042969 15.027344 L 3.15625 15.152344 L 3.519531 15.152344 C 4.238281 15.152344 4.828125 14.886719 8.1875 13.039062 C 9.386719 12.378906 10.371094 11.839844 10.378906 11.839844 C 10.386719 11.839844 10.355469 11.929688 10.304688 12.035156 C 9.832031 13.09375 9.257812 14.820312 8.96875 16.078125 C 7.914062 20.652344 8.617188 24.53125 11.070312 27.660156 C 11.351562 28.015625 11.363281 27.914062 10.972656 28.382812 C 8.925781 30.84375 7.945312 33.28125 8.238281 35.1875 C 8.289062 35.527344 8.28125 35.523438 8.917969 35.523438 C 10.941406 35.523438 13.074219 34.207031 15.136719 31.6875 C 15.359375 31.417969 15.328125 31.425781 15.5625 31.574219 C 16.292969 32.042969 18.023438 32.964844 18.175781 32.964844 C 18.335938 32.964844 19.941406 32.210938 20.828125 31.71875 C 20.996094 31.625 21.136719 31.554688 21.136719 31.558594 C 21.203125 31.664062 21.898438 32.414062 22.222656 32.730469 C 23.835938 34.300781 25.5625 35.132812 27.582031 35.300781 C 27.90625 35.328125 27.9375 35.308594 28.007812 34.984375 C 28.382812 33.242188 27.625 30.925781 25.863281 28.425781 L 25.542969 27.96875 L 25.699219 27.785156 C 28.945312 23.960938 29.132812 18.699219 26.257812 11.96875 L 26.207031 11.84375 L 27.945312 12.703125 C 31.53125 14.476562 32.316406 14.800781 33.03125 14.800781 C 33.976562 14.800781 33.78125 13.9375 32.472656 12.292969 C 28.519531 7.355469 25.394531 5.925781 21.921875 7.472656 L 21.558594 7.636719 L 21.578125 7.542969 C 21.699219 6.992188 21.761719 5.742188 21.699219 5.164062 C 21.496094 3.296875 20.664062 1.964844 19.003906 0.855469 C 18.480469 0.503906 18.457031 0.5 18.214844 0.632812\"/>\n",
              "</g>\n",
              "      </svg>\n",
              "    "
            ],
            "text/plain": [
              "<IPython.core.display.HTML object>"
            ]
          },
          "metadata": {
            "tags": []
          }
        }
      ]
    },
    {
      "cell_type": "markdown",
      "metadata": {
        "id": "HBlg5sC51ay5"
      },
      "source": [
        "## 2. Playing with Turtles (Advanced)\n",
        "\n",
        "The house of St. Nicolaus is a German pun. It is a graph-based puzzle with over 40 different solutions. You can find a graphic representation at the following address:\n",
        "[Video](https://upload.wikimedia.org/wikipedia/commons/f/f0/Haus_vom_Nikolaus_eulerian_hori.webm)\n",
        "[Picture](https://de.wikipedia.org/wiki/Haus_vom_Nikolaus#/media/Datei:Haus_vom_Nikolaus_eulerian_vert.svg)\n",
        "Please make the turtle draw the house of St. Nicolaus in the way you like the most. \n",
        "<br>\n",
        "**___/10 Pts**"
      ]
    },
    {
      "cell_type": "code",
      "metadata": {
        "colab": {
          "base_uri": "https://localhost:8080/",
          "height": 538
        },
        "id": "cycil1pi1Xr4",
        "outputId": "603685d2-9147-4fb4-98fe-b9a7f856575a"
      },
      "source": [
        "!pip3 install ColabTurtle\n",
        "\n",
        "import ColabTurtle.Turtle as turtle\n",
        "turtle.initializeTurtle(initial_speed=5) \n",
        "turtle.color('blue')\n",
        "turtle.forward(100)\n",
        "turtle.right(90)\n",
        "turtle.color('red')\n",
        "turtle.forward(100)\n",
        "turtle.right(90)\n",
        "turtle.color('brown')\n",
        "turtle.forward(100)\n",
        "turtle.right(90)\n",
        "turtle.color('yellow')\n",
        "turtle.forward(100)\n",
        "turtle.right(135)\n",
        "turtle.color('purple')\n",
        "turtle.forward(141.421)\n",
        "turtle.left(90)\n",
        "turtle.color('white')\n",
        "turtle.forward(70.7106)\n",
        "turtle.left(90)\n",
        "turtle.color('green')\n",
        "turtle.forward(70.7106)\n",
        "turtle.left(90)\n",
        "turtle.color('orange')\n",
        "turtle.forward(141.421)\n",
        "\n"
      ],
      "execution_count": null,
      "outputs": [
        {
          "output_type": "stream",
          "text": [
            "Requirement already satisfied: ColabTurtle in /usr/local/lib/python3.7/dist-packages (2.1.0)\n"
          ],
          "name": "stdout"
        },
        {
          "output_type": "display_data",
          "data": {
            "text/html": [
              "\n",
              "      <svg width=\"800\" height=\"500\">\n",
              "        <rect width=\"100%\" height=\"100%\" fill=\"black\"/>\n",
              "        <line x1=\"400\" y1=\"250\" x2=\"400.0\" y2=\"150.0\" stroke-linecap=\"round\" style=\"stroke:blue;stroke-width:4\"/><line x1=\"400.0\" y1=\"150.0\" x2=\"500.0\" y2=\"150.0\" stroke-linecap=\"round\" style=\"stroke:red;stroke-width:4\"/><line x1=\"500.0\" y1=\"150.0\" x2=\"500.0\" y2=\"250.0\" stroke-linecap=\"round\" style=\"stroke:brown;stroke-width:4\"/><line x1=\"500.0\" y1=\"250.0\" x2=\"400.0\" y2=\"250.0\" stroke-linecap=\"round\" style=\"stroke:yellow;stroke-width:4\"/><line x1=\"400.0\" y1=\"250.0\" x2=\"500.0\" y2=\"150.0\" stroke-linecap=\"round\" style=\"stroke:purple;stroke-width:4\"/><line x1=\"500.0\" y1=\"150.0\" x2=\"450.0\" y2=\"100.0\" stroke-linecap=\"round\" style=\"stroke:white;stroke-width:4\"/><line x1=\"450.0\" y1=\"100.0\" x2=\"400.0\" y2=\"150.0\" stroke-linecap=\"round\" style=\"stroke:green;stroke-width:4\"/><line x1=\"400.0\" y1=\"150.0\" x2=\"500.0\" y2=\"250.0\" stroke-linecap=\"round\" style=\"stroke:orange;stroke-width:4\"/>\n",
              "        <g visibility=visible transform=\"rotate(135,500.0,250.0) translate(482.0, 232.0)\">\n",
              "<path style=\" stroke:none;fill-rule:evenodd;fill:orange;fill-opacity:1;\" d=\"M 18.214844 0.632812 C 16.109375 1.800781 15.011719 4.074219 15.074219 7.132812 L 15.085938 7.652344 L 14.785156 7.496094 C 13.476562 6.824219 11.957031 6.671875 10.40625 7.066406 C 8.46875 7.550781 6.515625 9.15625 4.394531 11.992188 C 3.0625 13.777344 2.679688 14.636719 3.042969 15.027344 L 3.15625 15.152344 L 3.519531 15.152344 C 4.238281 15.152344 4.828125 14.886719 8.1875 13.039062 C 9.386719 12.378906 10.371094 11.839844 10.378906 11.839844 C 10.386719 11.839844 10.355469 11.929688 10.304688 12.035156 C 9.832031 13.09375 9.257812 14.820312 8.96875 16.078125 C 7.914062 20.652344 8.617188 24.53125 11.070312 27.660156 C 11.351562 28.015625 11.363281 27.914062 10.972656 28.382812 C 8.925781 30.84375 7.945312 33.28125 8.238281 35.1875 C 8.289062 35.527344 8.28125 35.523438 8.917969 35.523438 C 10.941406 35.523438 13.074219 34.207031 15.136719 31.6875 C 15.359375 31.417969 15.328125 31.425781 15.5625 31.574219 C 16.292969 32.042969 18.023438 32.964844 18.175781 32.964844 C 18.335938 32.964844 19.941406 32.210938 20.828125 31.71875 C 20.996094 31.625 21.136719 31.554688 21.136719 31.558594 C 21.203125 31.664062 21.898438 32.414062 22.222656 32.730469 C 23.835938 34.300781 25.5625 35.132812 27.582031 35.300781 C 27.90625 35.328125 27.9375 35.308594 28.007812 34.984375 C 28.382812 33.242188 27.625 30.925781 25.863281 28.425781 L 25.542969 27.96875 L 25.699219 27.785156 C 28.945312 23.960938 29.132812 18.699219 26.257812 11.96875 L 26.207031 11.84375 L 27.945312 12.703125 C 31.53125 14.476562 32.316406 14.800781 33.03125 14.800781 C 33.976562 14.800781 33.78125 13.9375 32.472656 12.292969 C 28.519531 7.355469 25.394531 5.925781 21.921875 7.472656 L 21.558594 7.636719 L 21.578125 7.542969 C 21.699219 6.992188 21.761719 5.742188 21.699219 5.164062 C 21.496094 3.296875 20.664062 1.964844 19.003906 0.855469 C 18.480469 0.503906 18.457031 0.5 18.214844 0.632812\"/>\n",
              "</g>\n",
              "      </svg>\n",
              "    "
            ],
            "text/plain": [
              "<IPython.core.display.HTML object>"
            ]
          },
          "metadata": {
            "tags": []
          }
        }
      ]
    },
    {
      "cell_type": "markdown",
      "metadata": {
        "id": "4ay9UvHL3Map"
      },
      "source": [
        "## 3. Which of the following is the output of the below Python code?\n",
        "<br>\n",
        "\n",
        "**___/5 Pts**"
      ]
    },
    {
      "cell_type": "code",
      "metadata": {
        "id": "vRXC5yIj5F-T",
        "colab": {
          "base_uri": "https://localhost:8080/",
          "height": 128
        },
        "outputId": "69a85c51-2c56-44f5-eb8d-c9e19d095ebb"
      },
      "source": [
        "class A:\n",
        "    def __init__(self):\n",
        "       self.x = 1\n",
        "       self.__y = 1\n",
        "\n",
        "   def getY(self):\n",
        "        return self.__y\n",
        "a = A()\n",
        "a.x = 45\n",
        "print(a.x)"
      ],
      "execution_count": null,
      "outputs": [
        {
          "output_type": "error",
          "ename": "IndentationError",
          "evalue": "ignored",
          "traceback": [
            "\u001b[0;36m  File \u001b[0;32m\"<ipython-input-56-f41f94a3bb1c>\"\u001b[0;36m, line \u001b[0;32m6\u001b[0m\n\u001b[0;31m    def getY(self):\u001b[0m\n\u001b[0m                   ^\u001b[0m\n\u001b[0;31mIndentationError\u001b[0m\u001b[0;31m:\u001b[0m unindent does not match any outer indentation level\n"
          ]
        }
      ]
    },
    {
      "cell_type": "markdown",
      "metadata": {
        "id": "N2MGTfx94Grl"
      },
      "source": [
        "\n",
        "    [_] The program runs fine and prints 1.\n",
        "    [_] The program has an error because y is private and cannot be access outside of the class.\n",
        "    [_] The program has an error because x is private and cannot be access outside of the class.\n",
        "    [_] The program has an error because you cannot name a variable using __y.\n",
        "    [ok] The program runs fine and prints 45. "
      ]
    },
    {
      "cell_type": "markdown",
      "metadata": {
        "id": "kMeIZmHw4avf"
      },
      "source": [
        "## 4. The following code reads two numbers. Which of the following is the correct input for the code?\n",
        "<br>\n",
        "\n",
        "**___/5 Pts**"
      ]
    },
    {
      "cell_type": "code",
      "metadata": {
        "id": "5Uzdw4gL5ROx",
        "colab": {
          "base_uri": "https://localhost:8080/",
          "height": 522
        },
        "outputId": "d4294995-4a8a-463a-822e-aecefad84b84"
      },
      "source": [
        "x, y = eval(input(\"Enter two numbers: \"))\n",
        "print(x)\n",
        "print(y)"
      ],
      "execution_count": null,
      "outputs": [
        {
          "output_type": "error",
          "ename": "KeyboardInterrupt",
          "evalue": "ignored",
          "traceback": [
            "\u001b[0;31m---------------------------------------------------------------------------\u001b[0m",
            "\u001b[0;31mKeyboardInterrupt\u001b[0m                         Traceback (most recent call last)",
            "\u001b[0;32m/usr/local/lib/python3.7/dist-packages/ipykernel/kernelbase.py\u001b[0m in \u001b[0;36m_input_request\u001b[0;34m(self, prompt, ident, parent, password)\u001b[0m\n\u001b[1;32m    728\u001b[0m             \u001b[0;32mtry\u001b[0m\u001b[0;34m:\u001b[0m\u001b[0;34m\u001b[0m\u001b[0;34m\u001b[0m\u001b[0m\n\u001b[0;32m--> 729\u001b[0;31m                 \u001b[0mident\u001b[0m\u001b[0;34m,\u001b[0m \u001b[0mreply\u001b[0m \u001b[0;34m=\u001b[0m \u001b[0mself\u001b[0m\u001b[0;34m.\u001b[0m\u001b[0msession\u001b[0m\u001b[0;34m.\u001b[0m\u001b[0mrecv\u001b[0m\u001b[0;34m(\u001b[0m\u001b[0mself\u001b[0m\u001b[0;34m.\u001b[0m\u001b[0mstdin_socket\u001b[0m\u001b[0;34m,\u001b[0m \u001b[0;36m0\u001b[0m\u001b[0;34m)\u001b[0m\u001b[0;34m\u001b[0m\u001b[0;34m\u001b[0m\u001b[0m\n\u001b[0m\u001b[1;32m    730\u001b[0m             \u001b[0;32mexcept\u001b[0m \u001b[0mException\u001b[0m\u001b[0;34m:\u001b[0m\u001b[0;34m\u001b[0m\u001b[0;34m\u001b[0m\u001b[0m\n",
            "\u001b[0;32m/usr/local/lib/python3.7/dist-packages/jupyter_client/session.py\u001b[0m in \u001b[0;36mrecv\u001b[0;34m(self, socket, mode, content, copy)\u001b[0m\n\u001b[1;32m    802\u001b[0m         \u001b[0;32mtry\u001b[0m\u001b[0;34m:\u001b[0m\u001b[0;34m\u001b[0m\u001b[0;34m\u001b[0m\u001b[0m\n\u001b[0;32m--> 803\u001b[0;31m             \u001b[0mmsg_list\u001b[0m \u001b[0;34m=\u001b[0m \u001b[0msocket\u001b[0m\u001b[0;34m.\u001b[0m\u001b[0mrecv_multipart\u001b[0m\u001b[0;34m(\u001b[0m\u001b[0mmode\u001b[0m\u001b[0;34m,\u001b[0m \u001b[0mcopy\u001b[0m\u001b[0;34m=\u001b[0m\u001b[0mcopy\u001b[0m\u001b[0;34m)\u001b[0m\u001b[0;34m\u001b[0m\u001b[0;34m\u001b[0m\u001b[0m\n\u001b[0m\u001b[1;32m    804\u001b[0m         \u001b[0;32mexcept\u001b[0m \u001b[0mzmq\u001b[0m\u001b[0;34m.\u001b[0m\u001b[0mZMQError\u001b[0m \u001b[0;32mas\u001b[0m \u001b[0me\u001b[0m\u001b[0;34m:\u001b[0m\u001b[0;34m\u001b[0m\u001b[0;34m\u001b[0m\u001b[0m\n",
            "\u001b[0;32m/usr/local/lib/python3.7/dist-packages/zmq/sugar/socket.py\u001b[0m in \u001b[0;36mrecv_multipart\u001b[0;34m(self, flags, copy, track)\u001b[0m\n\u001b[1;32m    582\u001b[0m         \"\"\"\n\u001b[0;32m--> 583\u001b[0;31m         \u001b[0mparts\u001b[0m \u001b[0;34m=\u001b[0m \u001b[0;34m[\u001b[0m\u001b[0mself\u001b[0m\u001b[0;34m.\u001b[0m\u001b[0mrecv\u001b[0m\u001b[0;34m(\u001b[0m\u001b[0mflags\u001b[0m\u001b[0;34m,\u001b[0m \u001b[0mcopy\u001b[0m\u001b[0;34m=\u001b[0m\u001b[0mcopy\u001b[0m\u001b[0;34m,\u001b[0m \u001b[0mtrack\u001b[0m\u001b[0;34m=\u001b[0m\u001b[0mtrack\u001b[0m\u001b[0;34m)\u001b[0m\u001b[0;34m]\u001b[0m\u001b[0;34m\u001b[0m\u001b[0;34m\u001b[0m\u001b[0m\n\u001b[0m\u001b[1;32m    584\u001b[0m         \u001b[0;31m# have first part already, only loop while more to receive\u001b[0m\u001b[0;34m\u001b[0m\u001b[0;34m\u001b[0m\u001b[0;34m\u001b[0m\u001b[0m\n",
            "\u001b[0;32mzmq/backend/cython/socket.pyx\u001b[0m in \u001b[0;36mzmq.backend.cython.socket.Socket.recv\u001b[0;34m()\u001b[0m\n",
            "\u001b[0;32mzmq/backend/cython/socket.pyx\u001b[0m in \u001b[0;36mzmq.backend.cython.socket.Socket.recv\u001b[0;34m()\u001b[0m\n",
            "\u001b[0;32mzmq/backend/cython/socket.pyx\u001b[0m in \u001b[0;36mzmq.backend.cython.socket._recv_copy\u001b[0;34m()\u001b[0m\n",
            "\u001b[0;32m/usr/local/lib/python3.7/dist-packages/zmq/backend/cython/checkrc.pxd\u001b[0m in \u001b[0;36mzmq.backend.cython.checkrc._check_rc\u001b[0;34m()\u001b[0m\n",
            "\u001b[0;31mKeyboardInterrupt\u001b[0m: ",
            "\nDuring handling of the above exception, another exception occurred:\n",
            "\u001b[0;31mKeyboardInterrupt\u001b[0m                         Traceback (most recent call last)",
            "\u001b[0;32m<ipython-input-46-6c938c5ad487>\u001b[0m in \u001b[0;36m<module>\u001b[0;34m()\u001b[0m\n\u001b[0;32m----> 1\u001b[0;31m \u001b[0mx\u001b[0m\u001b[0;34m,\u001b[0m \u001b[0my\u001b[0m \u001b[0;34m=\u001b[0m \u001b[0meval\u001b[0m\u001b[0;34m(\u001b[0m\u001b[0minput\u001b[0m\u001b[0;34m(\u001b[0m\u001b[0;34m\"Enter two numbers: \"\u001b[0m\u001b[0;34m)\u001b[0m\u001b[0;34m)\u001b[0m\u001b[0;34m\u001b[0m\u001b[0;34m\u001b[0m\u001b[0m\n\u001b[0m\u001b[1;32m      2\u001b[0m \u001b[0mprint\u001b[0m\u001b[0;34m(\u001b[0m\u001b[0mx\u001b[0m\u001b[0;34m)\u001b[0m\u001b[0;34m\u001b[0m\u001b[0;34m\u001b[0m\u001b[0m\n\u001b[1;32m      3\u001b[0m \u001b[0mprint\u001b[0m\u001b[0;34m(\u001b[0m\u001b[0my\u001b[0m\u001b[0;34m)\u001b[0m\u001b[0;34m\u001b[0m\u001b[0;34m\u001b[0m\u001b[0m\n",
            "\u001b[0;32m/usr/local/lib/python3.7/dist-packages/ipykernel/kernelbase.py\u001b[0m in \u001b[0;36mraw_input\u001b[0;34m(self, prompt)\u001b[0m\n\u001b[1;32m    702\u001b[0m             \u001b[0mself\u001b[0m\u001b[0;34m.\u001b[0m\u001b[0m_parent_ident\u001b[0m\u001b[0;34m,\u001b[0m\u001b[0;34m\u001b[0m\u001b[0;34m\u001b[0m\u001b[0m\n\u001b[1;32m    703\u001b[0m             \u001b[0mself\u001b[0m\u001b[0;34m.\u001b[0m\u001b[0m_parent_header\u001b[0m\u001b[0;34m,\u001b[0m\u001b[0;34m\u001b[0m\u001b[0;34m\u001b[0m\u001b[0m\n\u001b[0;32m--> 704\u001b[0;31m             \u001b[0mpassword\u001b[0m\u001b[0;34m=\u001b[0m\u001b[0;32mFalse\u001b[0m\u001b[0;34m,\u001b[0m\u001b[0;34m\u001b[0m\u001b[0;34m\u001b[0m\u001b[0m\n\u001b[0m\u001b[1;32m    705\u001b[0m         )\n\u001b[1;32m    706\u001b[0m \u001b[0;34m\u001b[0m\u001b[0m\n",
            "\u001b[0;32m/usr/local/lib/python3.7/dist-packages/ipykernel/kernelbase.py\u001b[0m in \u001b[0;36m_input_request\u001b[0;34m(self, prompt, ident, parent, password)\u001b[0m\n\u001b[1;32m    732\u001b[0m             \u001b[0;32mexcept\u001b[0m \u001b[0mKeyboardInterrupt\u001b[0m\u001b[0;34m:\u001b[0m\u001b[0;34m\u001b[0m\u001b[0;34m\u001b[0m\u001b[0m\n\u001b[1;32m    733\u001b[0m                 \u001b[0;31m# re-raise KeyboardInterrupt, to truncate traceback\u001b[0m\u001b[0;34m\u001b[0m\u001b[0;34m\u001b[0m\u001b[0;34m\u001b[0m\u001b[0m\n\u001b[0;32m--> 734\u001b[0;31m                 \u001b[0;32mraise\u001b[0m \u001b[0mKeyboardInterrupt\u001b[0m\u001b[0;34m\u001b[0m\u001b[0;34m\u001b[0m\u001b[0m\n\u001b[0m\u001b[1;32m    735\u001b[0m             \u001b[0;32melse\u001b[0m\u001b[0;34m:\u001b[0m\u001b[0;34m\u001b[0m\u001b[0;34m\u001b[0m\u001b[0m\n\u001b[1;32m    736\u001b[0m                 \u001b[0;32mbreak\u001b[0m\u001b[0;34m\u001b[0m\u001b[0;34m\u001b[0m\u001b[0m\n",
            "\u001b[0;31mKeyboardInterrupt\u001b[0m: "
          ]
        }
      ]
    },
    {
      "cell_type": "markdown",
      "metadata": {
        "id": "LgBpGrQm5UFj"
      },
      "source": [
        "\n",
        "    [_] <pre>3 4</pre>\n",
        "    [ok] 3 4\n",
        "    [_] 3, 4\n",
        "    [_] 3,4,\n",
        "    [_] None "
      ]
    },
    {
      "cell_type": "markdown",
      "metadata": {
        "id": "XS8tZsnl5lji"
      },
      "source": [
        "## 5. Which of the following is true for the below statement?\n",
        "<br>\n",
        "\n",
        "**___/5 Pts**"
      ]
    },
    {
      "cell_type": "code",
      "metadata": {
        "id": "CKuK--AK6B3R",
        "colab": {
          "base_uri": "https://localhost:8080/"
        },
        "outputId": "b8f2c848-c595-47bc-caed-61bdb433f362"
      },
      "source": [
        "import time\n",
        "\n",
        "time.time() "
      ],
      "execution_count": null,
      "outputs": [
        {
          "output_type": "execute_result",
          "data": {
            "text/plain": [
              "1618558593.7323377"
            ]
          },
          "metadata": {
            "tags": []
          },
          "execution_count": 48
        }
      ]
    },
    {
      "cell_type": "markdown",
      "metadata": {
        "id": "40zNAhOu6tD0"
      },
      "source": [
        "\n",
        "    [_] the current time in milliseconds.\n",
        "    [_] the current time in milliseconds since midnight, January 1, 1970.\n",
        "    [_] the current time.\n",
        "    [ok] the current time in seconds since the epoch.\n",
        "    [_] the current time in milliseconds since midnight, January 1, 1970 GMT (the Unix time). "
      ]
    },
    {
      "cell_type": "markdown",
      "metadata": {
        "id": "053DH5n-6zr9"
      },
      "source": [
        "## 6. Which of the following is the output of the below Python code?\n",
        "<br>\n",
        "\n",
        "**___/5 Pts**"
      ]
    },
    {
      "cell_type": "code",
      "metadata": {
        "id": "nWiSbIyk7BQ1",
        "colab": {
          "base_uri": "https://localhost:8080/"
        },
        "outputId": "3171aaaf-0afb-4701-f7bd-647c34835aad"
      },
      "source": [
        "class A:\n",
        "   def __str__(self):\n",
        "       return\"A\"\n",
        "class B(A):\n",
        "    def __init__(self):\n",
        "       super().__init__()\n",
        "class C(B):\n",
        " def __init__(self):\n",
        "  super().__init__()\n",
        "def main():\n",
        "    b = B()\n",
        "    a = A()\n",
        "    c = C()\n",
        "    print(a, b, c)\n",
        "main()"
      ],
      "execution_count": null,
      "outputs": [
        {
          "output_type": "stream",
          "text": [
            "A A A\n"
          ],
          "name": "stdout"
        }
      ]
    },
    {
      "cell_type": "markdown",
      "metadata": {
        "id": "4ztUwg9p7P-3"
      },
      "source": [
        "\n",
        "    [_] C C C\n",
        "    [_] B B B\n",
        "    [_] A B C\n",
        "    [ok] A A A\n",
        "    [_] None "
      ]
    },
    {
      "cell_type": "markdown",
      "metadata": {
        "id": "NAihRYZJ7VzK"
      },
      "source": [
        "## 7. Analyze the following code fragments that assign a boolean value to the variable even?\n",
        "<br>\n",
        "\n",
        "**___/5 Pts**"
      ]
    },
    {
      "cell_type": "code",
      "metadata": {
        "id": "NVmWWGTr7iwi",
        "colab": {
          "base_uri": "https://localhost:8080/"
        },
        "outputId": "70290105-eaae-4fa9-f765-be11dd7659f3"
      },
      "source": [
        "number = 202\n",
        "#Code1 \n",
        "if number % 2 == 0:\n",
        "    even = True\n",
        "else: \n",
        "    even = False\n",
        "print (\"Code1: even := {}\".format(even))\n",
        "\n",
        "#Code2\n",
        "even = True if number % 2 == 0 else False\n",
        "print (\"Code2: even := {}\".format(even))\n",
        "\n",
        "#Code3\n",
        "even = number % 2 == 0\n",
        "print (\"Code3: even := {}\".format(even))"
      ],
      "execution_count": null,
      "outputs": [
        {
          "output_type": "stream",
          "text": [
            "Code1: even := True\n",
            "Code2: even := True\n",
            "Code3: even := True\n"
          ],
          "name": "stdout"
        }
      ]
    },
    {
      "cell_type": "markdown",
      "metadata": {
        "id": "1UOdDpow8IUs"
      },
      "source": [
        "\n",
        "    [_] All three are correct, but Code2 is preferred.\n",
        "    [_] Code2 has a syntax error because you cannot have True and False literals in the conditional expression.\n",
        "    [ok] All three are correct, but Code1 is preferred.\n",
        "    [_] Code3 has a syntax error because you attempt to assign a number to 'even'.\n",
        "    [_] All three are correct, but Code3 is preferred. "
      ]
    },
    {
      "cell_type": "markdown",
      "metadata": {
        "id": "uy9wuDpy8WTr"
      },
      "source": [
        "## 8. Which of the following is the output of the following Python code?\n",
        "<br>\n",
        "\n",
        "**___/2.5 Pts**"
      ]
    },
    {
      "cell_type": "code",
      "metadata": {
        "colab": {
          "base_uri": "https://localhost:8080/"
        },
        "id": "EOxthZkO8i6t",
        "outputId": "4f001bcf-7394-4b80-8f56-b4706cf5f365"
      },
      "source": [
        "d = {\"python\":40, \"developer\":45}\n",
        "print(list(d.keys()))"
      ],
      "execution_count": null,
      "outputs": [
        {
          "output_type": "stream",
          "text": [
            "['python', 'developer']\n"
          ],
          "name": "stdout"
        }
      ]
    },
    {
      "cell_type": "markdown",
      "metadata": {
        "id": "i9kfr20-8o4X"
      },
      "source": [
        "\n",
        "    [ok] [\"python\", \"developer\"]\n",
        "    [_] [\"python\":40, \"developer\":45]\n",
        "    [_] (\"python\":40, \"developer\":45)\n",
        "    [_] (\"python\", \"developer\") "
      ]
    },
    {
      "cell_type": "markdown",
      "metadata": {
        "id": "HKe6MiF58w4l"
      },
      "source": [
        "## 9. Which of the following is the output of the below Python code fragment?\n",
        "<br>\n",
        "\n",
        "**___/5 Pts**"
      ]
    },
    {
      "cell_type": "code",
      "metadata": {
        "id": "p7N83FYt84mQ",
        "colab": {
          "base_uri": "https://localhost:8080/",
          "height": 128
        },
        "outputId": "a01042c3-b2f7-4ec5-a22b-92bb0965ad78"
      },
      "source": [
        "\n",
        "def f1(x =1,y =2):\n",
        "   x = x+y\n",
        "   y += 1\n",
        "    print(x,y)\n",
        "f1(y = 2,x = 1)"
      ],
      "execution_count": null,
      "outputs": [
        {
          "output_type": "error",
          "ename": "IndentationError",
          "evalue": "ignored",
          "traceback": [
            "\u001b[0;36m  File \u001b[0;32m\"<ipython-input-68-cc8b00b9941b>\"\u001b[0;36m, line \u001b[0;32m5\u001b[0m\n\u001b[0;31m    print(x,y)\u001b[0m\n\u001b[0m    ^\u001b[0m\n\u001b[0;31mIndentationError\u001b[0m\u001b[0;31m:\u001b[0m unexpected indent\n"
          ]
        }
      ]
    },
    {
      "cell_type": "markdown",
      "metadata": {
        "id": "ANA4ThME9EbR"
      },
      "source": [
        "\n",
        "    [_] The program has a runtime error because x and y are not defined.\n",
        "    [_] 2 3\n",
        "    [_] 3 2\n",
        "    [ok] 3 3\n",
        "    [_] 1 3 "
      ]
    },
    {
      "cell_type": "markdown",
      "metadata": {
        "id": "w0_BpYjg9Kpz"
      },
      "source": [
        "## 10. Which of the following is the output of the following code?\n",
        "<br>\n",
        "\n",
        "**___/5 Pts**"
      ]
    },
    {
      "cell_type": "code",
      "metadata": {
        "id": "vCPMOvpL9Tgm",
        "colab": {
          "base_uri": "https://localhost:8080/"
        },
        "outputId": "ee42c668-1167-43e3-965c-21cc7b3ea074"
      },
      "source": [
        "class A:\n",
        "   def __init__(self, i = 2, j = 3):\n",
        "       self.i = i\n",
        "       self.j = j\n",
        "   def __str__(self):\n",
        "       return\"A\"\n",
        "    #def __eq__(self, other):\n",
        "       return self.i * self.j == other.i * other.j\n",
        "def main():\n",
        "    x = A(1, 2)\n",
        "    y = A(2, 1)\n",
        "    print(x == y)\n",
        "main()"
      ],
      "execution_count": null,
      "outputs": [
        {
          "output_type": "stream",
          "text": [
            "False\n"
          ],
          "name": "stdout"
        }
      ]
    },
    {
      "cell_type": "markdown",
      "metadata": {
        "id": "ML5MfmpD9aOC"
      },
      "source": [
        "\n",
        "    [ok] True\n",
        "    [_] 2\n",
        "    [_] False\n",
        "    [_] 1\n",
        "    [_] None "
      ]
    },
    {
      "cell_type": "markdown",
      "metadata": {
        "id": "3AzGim6Z9ipG"
      },
      "source": [
        "## 11. Which of the following is the output of the below Python code?\n",
        "<br>\n",
        "\n",
        "**___/5 Pts**"
      ]
    },
    {
      "cell_type": "code",
      "metadata": {
        "id": "jLaL99jD9rhN",
        "colab": {
          "base_uri": "https://localhost:8080/"
        },
        "outputId": "b8292c70-d3f7-43f8-c3b0-c4d85fc3b1f1"
      },
      "source": [
        "list1 = [1, 3]\n",
        "list2 = list1\n",
        "list1[0] = 4\n",
        "print(list2)"
      ],
      "execution_count": null,
      "outputs": [
        {
          "output_type": "stream",
          "text": [
            "[4, 3]\n"
          ],
          "name": "stdout"
        }
      ]
    },
    {
      "cell_type": "markdown",
      "metadata": {
        "id": "fxmKx0Sc9vy3"
      },
      "source": [
        "\n",
        "    [_] [1, 3, 4]\n",
        "    [ok] [4, 3]\n",
        "    [_] [1, 4]\n",
        "    [_] [1, 3] "
      ]
    },
    {
      "cell_type": "markdown",
      "metadata": {
        "id": "p3KDKGrv93hT"
      },
      "source": [
        "## 12. Which of the following is the output of the below Python code?\n",
        "<br>\n",
        "\n",
        "**___/5 Pts**"
      ]
    },
    {
      "cell_type": "code",
      "metadata": {
        "id": "mTEN30Th9-4f",
        "colab": {
          "base_uri": "https://localhost:8080/"
        },
        "outputId": "cdfdfb39-a889-4c58-eaed-9212360332bf"
      },
      "source": [
        "x = 2\n",
        "y = 1\n",
        "x *= y + 1\n",
        "\n",
        "print(x)"
      ],
      "execution_count": null,
      "outputs": [
        {
          "output_type": "stream",
          "text": [
            "4\n"
          ],
          "name": "stdout"
        }
      ]
    },
    {
      "cell_type": "markdown",
      "metadata": {
        "id": "0sT-pX5A-hY7"
      },
      "source": [
        "\n",
        "    [_] x is 3.\n",
        "    [_] None\n",
        "    [_] x is 1.\n",
        "    [ok] x is 4.\n",
        "    [_] x is 2. "
      ]
    },
    {
      "cell_type": "markdown",
      "metadata": {
        "id": "7Djkj-SY-o4G"
      },
      "source": [
        "## 13. Which of the following is the output of the below Python code?\n",
        "<br>\n",
        "\n",
        "**___/5 Pts**"
      ]
    },
    {
      "cell_type": "code",
      "metadata": {
        "id": "o4QwczgH_Ovn",
        "colab": {
          "base_uri": "https://localhost:8080/"
        },
        "outputId": "488a9cee-8dbd-4a9a-a94e-dfa5a8f5fb76"
      },
      "source": [
        "myList = [1, 5, 5, 5, 5, 1]\n",
        "max = myList[0]\n",
        "indexOfMax = 0\n",
        "for i in range(1, len(myList)):\n",
        "    if myList[i] > max:\n",
        "        max = myList[i]\n",
        "        indexOfMax = i\n",
        "print(indexOfMax)"
      ],
      "execution_count": null,
      "outputs": [
        {
          "output_type": "stream",
          "text": [
            "1\n"
          ],
          "name": "stdout"
        }
      ]
    },
    {
      "cell_type": "markdown",
      "metadata": {
        "id": "W9X0dy4Y_VD9"
      },
      "source": [
        "\n",
        "    [_] 4\n",
        "    [ok] 1\n",
        "    [_] 0\n",
        "    [_] 2\n",
        "    [_] 3 "
      ]
    },
    {
      "cell_type": "markdown",
      "metadata": {
        "id": "CUZKQyRY_Vrl"
      },
      "source": [
        "## 14. What is your view on the following recursive function?\n",
        "<br>\n",
        "\n",
        "**___/5 Pts**"
      ]
    },
    {
      "cell_type": "code",
      "metadata": {
        "id": "UvpUpGFo_uGs"
      },
      "source": [
        "#def factorial(n):\n",
        "     #return n * factorial(n - 1)"
      ],
      "execution_count": null,
      "outputs": []
    },
    {
      "cell_type": "markdown",
      "metadata": {
        "id": "8OuyitN9_wkk"
      },
      "source": [
        "\n",
        "    [_] Invoking factorial(1) returns 1.\n",
        "    [_] Invoking factorial(0) returns 0.\n",
        "    [_] Invoking factorial(2) returns 2.\n",
        "    [_] Invoking factorial(3) returns 6.\n",
        "    [ok] The function runs infinitely and causes a StackOverflowError. "
      ]
    },
    {
      "cell_type": "markdown",
      "metadata": {
        "id": "rzq4fdAx_7fk"
      },
      "source": [
        "## 15. Which is the output of the following Python code fragment?\n",
        "<br>\n",
        "\n",
        "**___/5 Pts**"
      ]
    },
    {
      "cell_type": "code",
      "metadata": {
        "id": "ZmIYX7H4A9kd",
        "colab": {
          "base_uri": "https://localhost:8080/"
        },
        "outputId": "c6b3f274-8168-4053-916c-384dbc857cf7"
      },
      "source": [
        "x = True\n",
        "y = False\n",
        "z = False\n",
        "if not x or y:\n",
        "      print (1)\n",
        "elif not x or not y and z:\n",
        "      print (2)\n",
        "elif not x or y or not y and x:\n",
        "      print (3)\n",
        "else:\n",
        "      print (4)"
      ],
      "execution_count": null,
      "outputs": [
        {
          "output_type": "stream",
          "text": [
            "3\n"
          ],
          "name": "stdout"
        }
      ]
    },
    {
      "cell_type": "markdown",
      "metadata": {
        "id": "iFxx3DWpBKIc"
      },
      "source": [
        "\n",
        "    [ok] 3\n",
        "    [_] 2\n",
        "    [_] 1\n",
        "    [_] 4\n",
        "    [_] None "
      ]
    },
    {
      "cell_type": "markdown",
      "metadata": {
        "id": "_tePHJjOBKLi"
      },
      "source": [
        "## 16. Which of the following is the output of the below Python code?\n",
        "<br>\n",
        "\n",
        "**___/5 Pts**"
      ]
    },
    {
      "cell_type": "code",
      "metadata": {
        "id": "71Byg3EtBVmR",
        "colab": {
          "base_uri": "https://localhost:8080/"
        },
        "outputId": "63dff6b9-502d-4df7-98ab-194cf7384b8e"
      },
      "source": [
        "counter = 1 \n",
        "\n",
        "def doLotsOfStuff():\n",
        "    \n",
        "    global counter\n",
        "\n",
        "for i in (1, 2, 3): \n",
        "        counter += 1\n",
        "\n",
        "doLotsOfStuff()\n",
        "\n",
        "print (counter)"
      ],
      "execution_count": null,
      "outputs": [
        {
          "output_type": "stream",
          "text": [
            "4\n"
          ],
          "name": "stdout"
        }
      ]
    },
    {
      "cell_type": "markdown",
      "metadata": {
        "id": "V5MAHU1tBhpJ"
      },
      "source": [
        "\n",
        "    [_] 1\n",
        "    [_] 3\n",
        "    [_] None\n",
        "    [_] 7\n",
        "    [ok] 4 "
      ]
    },
    {
      "cell_type": "markdown",
      "metadata": {
        "id": "32hzs0JxBquX"
      },
      "source": [
        "## 17. Which of the following is the output of the following Python code?\n",
        "<br>\n",
        "\n",
        "**___/2.5 Pts**"
      ]
    },
    {
      "cell_type": "code",
      "metadata": {
        "colab": {
          "base_uri": "https://localhost:8080/"
        },
        "id": "rolTSIFnBuAI",
        "outputId": "489052b2-c39e-414e-c160-21345aafee40"
      },
      "source": [
        "Nums = set ([1,1,2,3,3,3,4])\n",
        "print (len(Nums))"
      ],
      "execution_count": null,
      "outputs": [
        {
          "output_type": "stream",
          "text": [
            "4\n"
          ],
          "name": "stdout"
        }
      ]
    },
    {
      "cell_type": "markdown",
      "metadata": {
        "id": "XfB4r3sPCFe7"
      },
      "source": [
        "    [_] 1\n",
        "    [_] 2\n",
        "    [ok] 4\n",
        "    [_] 7\n",
        "    [_] 5 "
      ]
    },
    {
      "cell_type": "markdown",
      "metadata": {
        "id": "l74d54mQCIdf"
      },
      "source": [
        "## 18. Which of the following is the output of the below Python code fragment?\n",
        "<br>\n",
        "\n",
        "**___/5 Pts**"
      ]
    },
    {
      "cell_type": "code",
      "metadata": {
        "id": "UwbZp_i1CUWp",
        "colab": {
          "base_uri": "https://localhost:8080/",
          "height": 128
        },
        "outputId": "2d0423d4-5d78-4913-b71a-bddfc668fc05"
      },
      "source": [
        "class A:\n",
        "   def __init__(self):\n",
        "#self.i = 1\n",
        "def m(self):\n",
        "self.i = 10\n",
        "class B(A):\n",
        "def m(self):\n",
        "self.i += 1\n",
        "return self.i\n",
        "def main():\n",
        "b = B()\n",
        "print(b.m())\n",
        "main()"
      ],
      "execution_count": null,
      "outputs": [
        {
          "output_type": "error",
          "ename": "IndentationError",
          "evalue": "ignored",
          "traceback": [
            "\u001b[0;36m  File \u001b[0;32m\"<ipython-input-89-ffc522f08b2f>\"\u001b[0;36m, line \u001b[0;32m4\u001b[0m\n\u001b[0;31m    def m(self):\u001b[0m\n\u001b[0m                ^\u001b[0m\n\u001b[0;31mIndentationError\u001b[0m\u001b[0;31m:\u001b[0m expected an indented block\n"
          ]
        }
      ]
    },
    {
      "cell_type": "markdown",
      "metadata": {
        "id": "a9CHi44xCaRZ"
      },
      "source": [
        "\n",
        "    [ok] 2\n",
        "    [_] 1\n",
        "    [_] 10\n",
        "    [_] i is not accessible from b. "
      ]
    },
    {
      "cell_type": "markdown",
      "metadata": {
        "id": "AJsu5K-sCiuZ"
      },
      "source": [
        "## 19. Which of the following is the output of the below Python code?\n",
        "<br>\n",
        "\n",
        "**___/5 Pts**"
      ]
    },
    {
      "cell_type": "code",
      "metadata": {
        "id": "9c_gMkvTCoSd",
        "colab": {
          "base_uri": "https://localhost:8080/",
          "height": 195
        },
        "outputId": "024f823a-527d-417b-e948-da467d036f06"
      },
      "source": [
        "class parent:\n",
        "  def __init__(self, param):\n",
        "      self.v1 = param\n",
        "class child(parent):\n",
        "    def __init__(self, param):\n",
        "        self.v2 = param\n",
        "\n",
        "obj = child(11)\n",
        "print (\"%d %d\" % (obj.v1, obj.v2))"
      ],
      "execution_count": null,
      "outputs": [
        {
          "output_type": "error",
          "ename": "AttributeError",
          "evalue": "ignored",
          "traceback": [
            "\u001b[0;31m---------------------------------------------------------------------------\u001b[0m",
            "\u001b[0;31mAttributeError\u001b[0m                            Traceback (most recent call last)",
            "\u001b[0;32m<ipython-input-90-a42dca8d6d71>\u001b[0m in \u001b[0;36m<module>\u001b[0;34m()\u001b[0m\n\u001b[1;32m      7\u001b[0m \u001b[0;34m\u001b[0m\u001b[0m\n\u001b[1;32m      8\u001b[0m \u001b[0mobj\u001b[0m \u001b[0;34m=\u001b[0m \u001b[0mchild\u001b[0m\u001b[0;34m(\u001b[0m\u001b[0;36m11\u001b[0m\u001b[0;34m)\u001b[0m\u001b[0;34m\u001b[0m\u001b[0;34m\u001b[0m\u001b[0m\n\u001b[0;32m----> 9\u001b[0;31m \u001b[0mprint\u001b[0m \u001b[0;34m(\u001b[0m\u001b[0;34m\"%d %d\"\u001b[0m \u001b[0;34m%\u001b[0m \u001b[0;34m(\u001b[0m\u001b[0mobj\u001b[0m\u001b[0;34m.\u001b[0m\u001b[0mv1\u001b[0m\u001b[0;34m,\u001b[0m \u001b[0mobj\u001b[0m\u001b[0;34m.\u001b[0m\u001b[0mv2\u001b[0m\u001b[0;34m)\u001b[0m\u001b[0;34m)\u001b[0m\u001b[0;34m\u001b[0m\u001b[0;34m\u001b[0m\u001b[0m\n\u001b[0m",
            "\u001b[0;31mAttributeError\u001b[0m: 'child' object has no attribute 'v1'"
          ]
        }
      ]
    },
    {
      "cell_type": "markdown",
      "metadata": {
        "id": "Swrt6hItCwkr"
      },
      "source": [
        "\n",
        "    [_] None None\n",
        "    [ok] AttributeError: 'child' object has no attribute 'v1'\n",
        "    [_] 11 None\n",
        "    [_] None 11\n",
        "    [_] 11 11 "
      ]
    },
    {
      "cell_type": "markdown",
      "metadata": {
        "id": "JS-H4nC8C5Fu"
      },
      "source": [
        "## 20. What do you think of the course so far?"
      ]
    },
    {
      "cell_type": "markdown",
      "metadata": {
        "id": "aWovYXXaDOXI"
      },
      "source": [
        "    It seems quite interesting \n",
        "    #\n",
        "    #\n",
        "    #\n",
        "    #\n",
        "    #\n",
        "    #"
      ]
    },
    {
      "cell_type": "markdown",
      "metadata": {
        "id": "4S2ksswaEeF_"
      },
      "source": [
        "# **____/100 Pts**"
      ]
    }
  ]
}